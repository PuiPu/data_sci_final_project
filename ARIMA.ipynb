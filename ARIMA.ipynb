{
  "cells": [
    {
      "cell_type": "markdown",
      "metadata": {
        "id": "view-in-github",
        "colab_type": "text"
      },
      "source": [
        "<a href=\"https://colab.research.google.com/github/PuiPu/data_sci_final_project/blob/main/ARIMA.ipynb\" target=\"_parent\"><img src=\"https://colab.research.google.com/assets/colab-badge.svg\" alt=\"Open In Colab\"/></a>"
      ]
    },
    {
      "cell_type": "markdown",
      "source": [
        "# 匯入 github"
      ],
      "metadata": {
        "id": "3yQmUFJ_ASPY"
      }
    },
    {
      "cell_type": "code",
      "source": [
        "# 使用個人訪問令牌克隆私有存儲庫\n",
        "!git clone https://github.com/PuiPu/data_sci_final_project.git"
      ],
      "metadata": {
        "colab": {
          "base_uri": "https://localhost:8080/"
        },
        "id": "5WX2f4NgAOAr",
        "outputId": "6f89be3e-5a83-42db-fd5c-5314ab1d8512"
      },
      "execution_count": 6,
      "outputs": [
        {
          "output_type": "stream",
          "name": "stdout",
          "text": [
            "fatal: destination path 'data_sci_final_project' already exists and is not an empty directory.\n"
          ]
        }
      ]
    },
    {
      "cell_type": "markdown",
      "source": [
        "# ARIMA (Gemini)"
      ],
      "metadata": {
        "id": "gxK3vgjJ3rcr"
      }
    },
    {
      "cell_type": "code",
      "source": [
        "from statsmodels.tsa.arima.model import ARIMA\n",
        "import pandas as pd\n",
        "\n",
        "# 讀取克隆的存儲庫中的 .csv 文件\n",
        "df = pd.read_csv('/content/data_sci_final_project/aapl_us_d.csv')\n",
        "df['Date'] = pd.to_datetime(df['Date'], format='%Y-%m-%d')\n",
        "df.set_index('Date', inplace=True)\n",
        "df = df.fillna(df.mean()) # 填補缺失值"
      ],
      "metadata": {
        "id": "2CyinM1w3y7-"
      },
      "execution_count": 7,
      "outputs": []
    },
    {
      "cell_type": "code",
      "source": [
        "df = df.interpolate(method='linear')  # 线性插值\n",
        "\n",
        "\n",
        "# # 推斷頻率\n",
        "# df = df.asfreq('d')\n",
        "# # 填補缺失值\n",
        "# df = df.fillna(df.mean())\n",
        "\n",
        "# # 使用推斷的頻率創建日期索引\n",
        "# df.index = pd.date_range(start=df.index[0], periods=len(df), freq=freq)"
      ],
      "metadata": {
        "id": "eALkvaRt1NGK"
      },
      "execution_count": 8,
      "outputs": []
    },
    {
      "cell_type": "code",
      "source": [
        "print(df.index.freq)\n",
        "print(df.isnull().sum())"
      ],
      "metadata": {
        "id": "Z7EI11lZ3D5F",
        "outputId": "ee51c4be-c2f0-4a93-cdfa-d0212fb4062b",
        "colab": {
          "base_uri": "https://localhost:8080/"
        }
      },
      "execution_count": 9,
      "outputs": [
        {
          "output_type": "stream",
          "name": "stdout",
          "text": [
            "None\n",
            "Open      0\n",
            "High      0\n",
            "Low       0\n",
            "Close     0\n",
            "Volume    0\n",
            "dtype: int64\n"
          ]
        }
      ]
    },
    {
      "cell_type": "code",
      "source": [
        "# # 看走勢\n",
        "# fig, ax = plt.subplots(figsize = (10, 5))\n",
        "# plt.plot(df['Close'], label = 'close')\n",
        "# plt.title('apple stock price')\n",
        "# plt.legend()"
      ],
      "metadata": {
        "id": "S-05IbpB4TS0"
      },
      "execution_count": 10,
      "outputs": []
    },
    {
      "cell_type": "markdown",
      "source": [
        "# 定態 ?\n",
        "1. 非定態\n",
        "  1. 不能夠以此為模型的數據來源(隨機波動沒辦法用模型來解釋)"
      ],
      "metadata": {
        "id": "dRl_pkPH4x6E"
      }
    },
    {
      "cell_type": "code",
      "source": [
        "# 從statsmodels數據包導入ADF套件\n",
        "from statsmodels.tsa.stattools import adfuller\n",
        "# 從產出的ADF報表擷取P-value項目\n",
        "price_p_value = adfuller(df['Close'])[1]\n",
        "# 設定判別式以及0.05的P-value標準\n",
        "if price_p_value > 0.05:\n",
        "    print('Nonstationary')\n",
        "else:\n",
        "    print('Stationary')"
      ],
      "metadata": {
        "id": "MmnnVRug40TV",
        "outputId": "1f45c4ca-1b18-4617-f96c-2f44824e6eda",
        "colab": {
          "base_uri": "https://localhost:8080/"
        }
      },
      "execution_count": 11,
      "outputs": [
        {
          "output_type": "stream",
          "name": "stdout",
          "text": [
            "Nonstationary\n"
          ]
        }
      ]
    },
    {
      "cell_type": "code",
      "source": [
        "# 一阶差分\n",
        "diff_df = df.diff().dropna()  # 计算一阶差分并去除 NaN\n",
        "\n",
        "# 從產出的ADF報表擷取P-value項目\n",
        "price_p_value = adfuller(diff_df['Close'])[1]\n",
        "# 設定判別式以及0.05的P-value標準\n",
        "if price_p_value > 0.05:\n",
        "    print('Nonstationary')\n",
        "else:\n",
        "    print('Stationary')\n"
      ],
      "metadata": {
        "id": "V2BzejVw5E3v",
        "outputId": "b4d86564-9c5c-44b5-c686-e337a7532862",
        "colab": {
          "base_uri": "https://localhost:8080/"
        }
      },
      "execution_count": 12,
      "outputs": [
        {
          "output_type": "stream",
          "name": "stdout",
          "text": [
            "Stationary\n"
          ]
        }
      ]
    },
    {
      "cell_type": "code",
      "source": [
        "from datetime import datetime\n",
        "# Split the data into training and testing sets\n",
        "train_end = datetime(2017, 11, 6)\n",
        "test_start = datetime(2017, 11, 7)\n",
        "train_data = df[:train_end]\n",
        "test_data = df[test_start:] # 用原始的 df"
      ],
      "metadata": {
        "id": "ymKJJ7hc1SU6"
      },
      "execution_count": 13,
      "outputs": []
    },
    {
      "cell_type": "code",
      "source": [
        "!pip install pmdarima"
      ],
      "metadata": {
        "id": "GLPd0tgk3R2K",
        "outputId": "1f4e28b8-219b-420e-de2f-7d5760ad30d9",
        "colab": {
          "base_uri": "https://localhost:8080/"
        }
      },
      "execution_count": 14,
      "outputs": [
        {
          "output_type": "stream",
          "name": "stdout",
          "text": [
            "Collecting pmdarima\n",
            "  Downloading pmdarima-2.0.4-cp310-cp310-manylinux_2_17_x86_64.manylinux2014_x86_64.manylinux_2_28_x86_64.whl.metadata (7.8 kB)\n",
            "Requirement already satisfied: joblib>=0.11 in /usr/local/lib/python3.10/dist-packages (from pmdarima) (1.4.2)\n",
            "Requirement already satisfied: Cython!=0.29.18,!=0.29.31,>=0.29 in /usr/local/lib/python3.10/dist-packages (from pmdarima) (3.0.11)\n",
            "Requirement already satisfied: numpy>=1.21.2 in /usr/local/lib/python3.10/dist-packages (from pmdarima) (1.26.4)\n",
            "Requirement already satisfied: pandas>=0.19 in /usr/local/lib/python3.10/dist-packages (from pmdarima) (2.2.2)\n",
            "Requirement already satisfied: scikit-learn>=0.22 in /usr/local/lib/python3.10/dist-packages (from pmdarima) (1.6.0)\n",
            "Requirement already satisfied: scipy>=1.3.2 in /usr/local/lib/python3.10/dist-packages (from pmdarima) (1.13.1)\n",
            "Requirement already satisfied: statsmodels>=0.13.2 in /usr/local/lib/python3.10/dist-packages (from pmdarima) (0.14.4)\n",
            "Requirement already satisfied: urllib3 in /usr/local/lib/python3.10/dist-packages (from pmdarima) (2.2.3)\n",
            "Requirement already satisfied: setuptools!=50.0.0,>=38.6.0 in /usr/local/lib/python3.10/dist-packages (from pmdarima) (75.1.0)\n",
            "Requirement already satisfied: packaging>=17.1 in /usr/local/lib/python3.10/dist-packages (from pmdarima) (24.2)\n",
            "Requirement already satisfied: python-dateutil>=2.8.2 in /usr/local/lib/python3.10/dist-packages (from pandas>=0.19->pmdarima) (2.8.2)\n",
            "Requirement already satisfied: pytz>=2020.1 in /usr/local/lib/python3.10/dist-packages (from pandas>=0.19->pmdarima) (2024.2)\n",
            "Requirement already satisfied: tzdata>=2022.7 in /usr/local/lib/python3.10/dist-packages (from pandas>=0.19->pmdarima) (2024.2)\n",
            "Requirement already satisfied: threadpoolctl>=3.1.0 in /usr/local/lib/python3.10/dist-packages (from scikit-learn>=0.22->pmdarima) (3.5.0)\n",
            "Requirement already satisfied: patsy>=0.5.6 in /usr/local/lib/python3.10/dist-packages (from statsmodels>=0.13.2->pmdarima) (1.0.1)\n",
            "Requirement already satisfied: six>=1.5 in /usr/local/lib/python3.10/dist-packages (from python-dateutil>=2.8.2->pandas>=0.19->pmdarima) (1.17.0)\n",
            "Downloading pmdarima-2.0.4-cp310-cp310-manylinux_2_17_x86_64.manylinux2014_x86_64.manylinux_2_28_x86_64.whl (2.1 MB)\n",
            "\u001b[2K   \u001b[90m━━━━━━━━━━━━━━━━━━━━━━━━━━━━━━━━━━━━━━━━\u001b[0m \u001b[32m2.1/2.1 MB\u001b[0m \u001b[31m65.2 MB/s\u001b[0m eta \u001b[36m0:00:00\u001b[0m\n",
            "\u001b[?25hInstalling collected packages: pmdarima\n",
            "Successfully installed pmdarima-2.0.4\n"
          ]
        }
      ]
    },
    {
      "cell_type": "code",
      "source": [
        "# from pmdarima import auto_arima\n",
        "# model = auto_arima(diff_df['Volume'], seasonal=True, m=12)  # 每年 m=12\n",
        "# print(model.order)  # 獲取最佳 (p, d, q)"
      ],
      "metadata": {
        "id": "pDvXCpC43Lzp",
        "collapsed": true
      },
      "execution_count": 15,
      "outputs": []
    },
    {
      "cell_type": "code",
      "source": [
        "# 建立模型並預測\n",
        "model = ARIMA(train_data['Close'], order=(2, 1, 6))\n",
        "model_fit = model.fit()"
      ],
      "metadata": {
        "id": "bLJOUXR-0mA7",
        "outputId": "6a02dfaf-dbba-453a-9c23-e4ded45aa6a8",
        "colab": {
          "base_uri": "https://localhost:8080/"
        }
      },
      "execution_count": 16,
      "outputs": [
        {
          "output_type": "stream",
          "name": "stderr",
          "text": [
            "/usr/local/lib/python3.10/dist-packages/statsmodels/tsa/base/tsa_model.py:473: ValueWarning: A date index has been provided, but it has no associated frequency information and so will be ignored when e.g. forecasting.\n",
            "  self._init_dates(dates, freq)\n",
            "/usr/local/lib/python3.10/dist-packages/statsmodels/tsa/base/tsa_model.py:473: ValueWarning: A date index has been provided, but it has no associated frequency information and so will be ignored when e.g. forecasting.\n",
            "  self._init_dates(dates, freq)\n",
            "/usr/local/lib/python3.10/dist-packages/statsmodels/tsa/base/tsa_model.py:473: ValueWarning: A date index has been provided, but it has no associated frequency information and so will be ignored when e.g. forecasting.\n",
            "  self._init_dates(dates, freq)\n",
            "/usr/local/lib/python3.10/dist-packages/statsmodels/base/model.py:607: ConvergenceWarning: Maximum Likelihood optimization failed to converge. Check mle_retvals\n",
            "  warnings.warn(\"Maximum Likelihood optimization failed to \"\n"
          ]
        }
      ]
    },
    {
      "cell_type": "code",
      "source": [
        "# 設定從某個時間點開始預測，並一直到指定的結束點\n",
        "dynamic_forecast = model_fit.predict(start=8150, end=10081)  # 2017-01-03~2024-09-06\n",
        "print(dynamic_forecast)"
      ],
      "metadata": {
        "id": "DW5rYLOHHABp",
        "outputId": "28608c88-7574-4a46-b443-e332b5cb93e6",
        "colab": {
          "base_uri": "https://localhost:8080/"
        }
      },
      "execution_count": 17,
      "outputs": [
        {
          "output_type": "stream",
          "name": "stdout",
          "text": [
            "8150     27.167514\n",
            "8151     27.287374\n",
            "8152     27.586655\n",
            "8153     27.841470\n",
            "8154     27.867940\n",
            "           ...    \n",
            "10077    41.239180\n",
            "10078    41.239180\n",
            "10079    41.239180\n",
            "10080    41.239180\n",
            "10081    41.239180\n",
            "Name: predicted_mean, Length: 1932, dtype: float64\n"
          ]
        },
        {
          "output_type": "stream",
          "name": "stderr",
          "text": [
            "/usr/local/lib/python3.10/dist-packages/statsmodels/tsa/base/tsa_model.py:837: ValueWarning: No supported index is available. Prediction results will be given with an integer index beginning at `start`.\n",
            "  return get_prediction_index(\n",
            "/usr/local/lib/python3.10/dist-packages/statsmodels/tsa/base/tsa_model.py:837: FutureWarning: No supported index is available. In the next version, calling this method in a model without a supported index will result in an exception.\n",
            "  return get_prediction_index(\n"
          ]
        }
      ]
    },
    {
      "cell_type": "markdown",
      "source": [
        "# 畫出趨勢線"
      ],
      "metadata": {
        "id": "clqqjimMK2aa"
      }
    },
    {
      "cell_type": "code",
      "source": [
        "import matplotlib.pyplot as plt\n",
        "\n",
        "print(len(test_data))\n",
        "\n",
        "# 繪製圖表\n",
        "plt.figure(figsize=(12, 6))\n",
        "plt.plot(test_data.index[test_data.index >= '2017-01-01'], test_data['Close'][test_data.index >= '2017-01-01'], label='Test Data')\n",
        "\n",
        "forecast_index = pd.date_range(start=test_data.index[0], periods=len(dynamic_forecast), freq='D')\n",
        "plt.plot(forecast_index, dynamic_forecast, label='Forecast', color='red')\n",
        "\n",
        "plt.title('Apple Stock Price Forecast')\n",
        "plt.xlabel('Date')\n",
        "plt.ylabel('Price')\n",
        "plt.legend()\n",
        "\n",
        "plt.show()"
      ],
      "metadata": {
        "colab": {
          "base_uri": "https://localhost:8080/",
          "height": 581
        },
        "id": "gLnP7ydrK6Ym",
        "outputId": "90059cd1-7d18-425f-91b0-660454761c68"
      },
      "execution_count": 18,
      "outputs": [
        {
          "output_type": "stream",
          "name": "stdout",
          "text": [
            "1718\n"
          ]
        },
        {
          "output_type": "display_data",
          "data": {
            "text/plain": [
              "<Figure size 1200x600 with 1 Axes>"
            ],
            "image/png": "[encoded data removed]"
          },
          "metadata": {}
        }
      ]
    }
  ],
  "metadata": {
    "colab": {
      "name": "歡迎使用 Colaboratory",
      "provenance": [],
      "gpuType": "T4",
      "include_colab_link": true
    },
    "kernelspec": {
      "display_name": "Python 3",
      "name": "python3"
    },
    "accelerator": "GPU"
  },
  "nbformat": 4,
  "nbformat_minor": 0
}